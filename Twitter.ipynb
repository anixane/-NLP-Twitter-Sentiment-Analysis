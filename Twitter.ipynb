{
 "cells": [
  {
   "cell_type": "markdown",
   "metadata": {},
   "source": [
    "<img src=\"files/heading.png\"/>"
   ]
  },
  {
   "cell_type": "code",
   "execution_count": 1,
   "metadata": {},
   "outputs": [],
   "source": [
    "import sys,tweepy,csv,re\n",
    "from textblob import TextBlob\n",
    "import matplotlib.pyplot as plt"
   ]
  },
  {
   "cell_type": "markdown",
   "metadata": {},
   "source": [
    "<h3>Defining function for calculating percentage upto 2 decimal places</h3>"
   ]
  },
  {
   "cell_type": "code",
   "execution_count": 2,
   "metadata": {},
   "outputs": [],
   "source": [
    "def percentage(part, whole):\n",
    "        temp = 100 * float(part) / float(whole)\n",
    "        return format(temp, '.2f')"
   ]
  },
  {
   "cell_type": "markdown",
   "metadata": {},
   "source": [
    "<h3>Storing Twitter API keys in variables</h3>"
   ]
  },
  {
   "cell_type": "code",
   "execution_count": 3,
   "metadata": {},
   "outputs": [],
   "source": [
    "consumerKey = \"nfSGtNsTnmBAGtYMfhcjOfNnv\"\n",
    "consumerSecret = \"Qt7uPxWC1kNe2kreBKtCsuYKXhB3dosEZrksJJlfYRZVouWDrK\"\n",
    "accessToken = \"1098938668285255681-G6rj2987RORDyC7xWmgkvx8P3Qssuy\"\n",
    "accessTokenSecret = \"Gxj6CCb4gqBLY47pGW1UN82K7b7VzgfWyO93M6EtUdDM7\""
   ]
  },
  {
   "cell_type": "code",
   "execution_count": 4,
   "metadata": {},
   "outputs": [],
   "source": [
    "auth = tweepy.OAuthHandler(consumerKey, consumerSecret)"
   ]
  },
  {
   "cell_type": "code",
   "execution_count": 5,
   "metadata": {},
   "outputs": [],
   "source": [
    "auth.set_access_token(accessToken, accessTokenSecret)"
   ]
  },
  {
   "cell_type": "code",
   "execution_count": 6,
   "metadata": {},
   "outputs": [],
   "source": [
    "api = tweepy.API(auth)"
   ]
  },
  {
   "cell_type": "markdown",
   "metadata": {},
   "source": [
    "<h3>Dynamic variables for searching term and # of terms you want to stream from Twitter</h3>"
   ]
  },
  {
   "cell_type": "code",
   "execution_count": 7,
   "metadata": {},
   "outputs": [],
   "source": [
    "searchTerm = \"pulwama attack\"\n",
    "NoOfTerms = 100"
   ]
  },
  {
   "cell_type": "markdown",
   "metadata": {},
   "source": [
    "<h3>Fetching tweets from Twitter by feeding the above dynamic variables into twitter search engine.</h3>"
   ]
  },
  {
   "cell_type": "code",
   "execution_count": 17,
   "metadata": {},
   "outputs": [],
   "source": [
    "tweets = tweepy.Cursor(api.search, q=searchTerm, lang = \"en\").items(NoOfTerms)"
   ]
  },
  {
   "cell_type": "markdown",
   "metadata": {},
   "source": [
    "<h3>Testing TextBlob lib for polarity generation!!</h3>"
   ]
  },
  {
   "cell_type": "code",
   "execution_count": 9,
   "metadata": {},
   "outputs": [
    {
     "data": {
      "text/plain": [
       "-1.0"
      ]
     },
     "execution_count": 9,
     "metadata": {},
     "output_type": "execute_result"
    }
   ],
   "source": [
    "a=TextBlob(\"I am the worst coder ever.\")\n",
    "a.sentiment.polarity"
   ]
  },
  {
   "cell_type": "code",
   "execution_count": 10,
   "metadata": {},
   "outputs": [
    {
     "data": {
      "text/plain": [
       "1.0"
      ]
     },
     "execution_count": 10,
     "metadata": {},
     "output_type": "execute_result"
    }
   ],
   "source": [
    "a=TextBlob(\"I am the best coder ever.\")\n",
    "a.sentiment.polarity"
   ]
  },
  {
   "cell_type": "markdown",
   "metadata": {},
   "source": [
    "<h3>Initializing Counter variables for different sentiments count!</h3>"
   ]
  },
  {
   "cell_type": "code",
   "execution_count": 11,
   "metadata": {},
   "outputs": [],
   "source": [
    "polarity = 0\n",
    "positive=0\n",
    "negative=0\n",
    "neutral=0"
   ]
  },
  {
   "cell_type": "markdown",
   "metadata": {},
   "source": [
    "<h3>looping through each tweet in list and updating counter variables.</h3>"
   ]
  },
  {
   "cell_type": "code",
   "execution_count": 12,
   "metadata": {},
   "outputs": [],
   "source": [
    "for tweet in tweets:\n",
    "#     print(tweet.text)\n",
    "    analysis = TextBlob(tweet.text)\n",
    "    polarity+=analysis.sentiment.polarity\n",
    "    \n",
    "    if (analysis.sentiment.polarity == 0):\n",
    "        neutral+=1\n",
    "    elif (analysis.sentiment.polarity < 0.00):\n",
    "        negative+=1\n",
    "    elif (analysis.sentiment.polarity > 0.00):\n",
    "        positive+=1"
   ]
  },
  {
   "cell_type": "markdown",
   "metadata": {},
   "source": [
    "<h3>Calculating percentage for all categories of sentiments.</h3>"
   ]
  },
  {
   "cell_type": "code",
   "execution_count": 13,
   "metadata": {},
   "outputs": [],
   "source": [
    "positive = percentage(positive,NoOfTerms)\n",
    "negative = percentage(negative,NoOfTerms)\n",
    "neutral = percentage(neutral,NoOfTerms)"
   ]
  },
  {
   "cell_type": "code",
   "execution_count": 14,
   "metadata": {},
   "outputs": [
    {
     "name": "stdout",
     "output_type": "stream",
     "text": [
      "how people are reacting on pulwama attack by analyzing 100 Tweets.\n",
      "Negative\n"
     ]
    }
   ],
   "source": [
    "print(\"how people are reacting on \"+searchTerm+\" by analyzing \" + str(NoOfTerms)+\" Tweets.\")\n",
    "if(polarity==0):\n",
    "    print('Neutral')\n",
    "elif(polarity<0):\n",
    "    print('Negative')\n",
    "elif(polarity>0):\n",
    "    print('Positive')"
   ]
  },
  {
   "cell_type": "markdown",
   "metadata": {},
   "source": [
    "<h3>Plotting pi-chart for graphical data visualization.</h3>"
   ]
  },
  {
   "cell_type": "code",
   "execution_count": 15,
   "metadata": {},
   "outputs": [
    {
     "data": {
      "image/png": "[encoded data removed]",
      "text/plain": [
       "<Figure size 432x288 with 1 Axes>"
      ]
     },
     "metadata": {},
     "output_type": "display_data"
    }
   ],
   "source": [
    "labels = ['Positive [' + str(positive) + '%]','Neutral [' + str(neutral) + '%]','Negative [' + str(negative) + '%]']\n",
    "sizes = [positive,neutral,negative]\n",
    "colors = ['yellowgreen','gold','red']\n",
    "patches, texts = plt.pie(sizes, colors=colors, startangle=90)\n",
    "plt.legend(patches, labels, loc=\"best\")\n",
    "plt.title('People reaction')\n",
    "plt.axis('equal')\n",
    "plt.tight_layout()\n",
    "plt.show()"
   ]
  },
  {
   "cell_type": "markdown",
   "metadata": {},
   "source": [
    "<h3>Reading the live streaming tweets which are input to NLP model.</h3>"
   ]
  },
  {
   "cell_type": "code",
   "execution_count": 18,
   "metadata": {},
   "outputs": [
    {
     "name": "stdout",
     "output_type": "stream",
     "text": [
      "RT @prabhurazdan: Some \"politicians\" who had become irrelevant in Kmr politics must be rejoicing Feb 14 attack on CRPF convoy in Pulwama. T…\n",
      "RT @majorgauravarya: The hammer drops. Should have done this years ago. Next step...remove security of Mehbooba Mufti &amp; Abdullahs. They wil…\n",
      "RT @sanhita4dr: Evn whn JeM claimed responsibility of d attack in Pulwama , Surjewala says it is some ' home grown so called terrorist\" whi…\n",
      "RT @khanumarfa: While there are credible reports suggesting that Prime Minister was shooting for a PR film hours after the Pulwama incident…\n",
      "RT @majorgauravarya: The hammer drops. Should have done this years ago. Next step...remove security of Mehbooba Mufti &amp; Abdullahs. They wil…\n",
      "RT @indonorwegian: https://t.co/TjuOKYgB9i Norway condemns terror attack in Pulwama.\n",
      "RT @pawan9680602089: The Jaish-e-Mohammad terrorist attack on a convoy of security forces in Pulwama district of Jammu &amp; Kashmir on Thursda…\n",
      "Trump Backs Outrage Over Pulwama Attack | Says India Looking at Somethin... https://t.co/EWvuq5SfmF via @YouTube\n",
      "RT @MumbaiMirror: Almost all claims made by @INCIndia and its president are false.\n",
      "\n",
      "https://t.co/j5GCfn99cU\n",
      "RT @NMenonRao: “Nearly 10 years ago, a top leader of the Islamist Uyghur East Turkestan Islamic Movement who was allegedly involved in a bo…\n",
      "RT @khanumarfa: While there are credible reports suggesting that Prime Minister was shooting for a PR film hours after the Pulwama incident…\n",
      "RT @ReshmaLalwani6: Pakistan Govt Takes ‘Control’ of Jaish-e-Mohammed HQ After Global Outrage Over Pulwama Attack \n",
      "@PMOIndia \n",
      "@narendramodi…\n",
      "RT @YashwantSinha: PM should come clean on what he was doing in the afternoon/evening of Feb 14 when Pulwama attack took place. If the NSA…\n",
      "RT @MumbaiMirror: Almost all claims made by @INCIndia and its president are false.\n",
      "\n",
      "https://t.co/j5GCfn99cU\n",
      "RT @majorgauravarya: The hammer drops. Should have done this years ago. Next step...remove security of Mehbooba Mufti &amp; Abdullahs. They wil…\n",
      "RT @urstrulyMahesh: Extremely saddened to hear of the terror attack in Pulwama. My deepest condolence, strength and courage to the families…\n",
      "RT @DeepikaBhardwaj: Not the first time obviously.Congress leaders and its darlings masquerading as journalists presented absolute concocti…\n",
      "RT @ysjagan: I strongly condemn this cowardly attack on @crpfindia convoy in #Pulwama and stand in solidarity with our brave soldiers. My h…\n",
      "RT @hvgoenka: Nandini Sharma by begging outside Ambe Mata Temple at Bajrangarh in Ajmer had collected over Rs 6 lakhs. As per her will wher…\n",
      "RT @UnSubtleDesi: Lies and more lies. \n",
      "https://t.co/Uqh62ahWaw https://t.co/IqlwOWOtJY\n",
      "RT @Dr_Ram_Official: Congress is the another name of 'fake' \n",
      "#VijaySankalpWithModi\n",
      "\n",
      "https://t.co/X2reH1FFLB\n",
      "RT @Av_ADH: @AjajAshraf can only ask about the representation among #Pulwama slain jawan but can you please tell us the religion of people…\n",
      "RT @AbhishBanerj: 1. Cong starts fake news that Modi did photo shoot after Pulwama attack.\n",
      "\n",
      "2. People dig up official Cong tweet at 4:44 pm…\n",
      "RT @Amitkalraj: This is the real face of Congress. Congress party workers shower currency notes on Congress leader Virendra Rawat (Former U…\n",
      "RT @narendramodi: A grateful nation bows to the martyrs of Pulwama. \n",
      "\n",
      "A befitting reply will be given to the perpetrators of the heinous at…\n",
      "RT @squintneon: So @INCIndia has deleted this tweet of @RahulGandhi where he was seen dancing in Gujarat after Pulwama Terror Attack\n",
      "\n",
      "Lets…\n",
      "RT @TajinderBagga: After Pulwama attack this guy @RahulGandhi was dancing. Shameless https://t.co/9QG93ro5Ni\n",
      "RT @YashwantSinha: PM should come clean on what he was doing in the afternoon/evening of Feb 14 when Pulwama attack took place. If the NSA…\n",
      "RT @ramadurai_arv: Congress claims PM was shooting 3 hours after Pulwama attack; Government sources deny allegations - Mumbai Mirror https:…\n",
      "RT @MumbaiMirror: Almost all claims made by @INCIndia and its president are false.\n",
      "\n",
      "https://t.co/j5GCfn99cU\n",
      "RT @SureshNakhua: Here is the video of Rahul Gandhi of Congress dancing after attack on our CRPF jawans in Pulwama.\n",
      "\n",
      "The Congress has delet…\n",
      "RT @ANI: #WATCH Congress party workers shower currency notes on Congress leader Virendra Rawat (Former Uttarakhand CM Harish Rawat's son),…\n",
      "RT @thewire_in: To have spun Gadkari’s tweets as action against Pakistan in the aftermath of the Pulwama attack required a kind of mental g…\n",
      "RT @MumbaiMirror: Almost all claims made by @INCIndia and its president are false.\n",
      "\n",
      "https://t.co/j5GCfn99cU\n",
      "RT @majorgauravarya: The hammer drops. Should have done this years ago. Next step...remove security of Mehbooba Mufti &amp; Abdullahs. They wil…\n",
      "RT @amitmalviya: Why did Congress delete this tweet showing Rahul Gandhi dancing after the Pulwama attack? https://t.co/H0t6B9wp8q\n",
      "RT @India_Policy: FAKE: Congress makes false claim of PM Modi shooting for film at Corbett 3 hours after Pulwama attack https://t.co/ieID5Q…\n",
      "Peace kills Enterprise Army of Pakistan. Their General kicked off Pulwama attack to stall retirement. Such are thes… https://t.co/eF9nrelPY3\n",
      "RT @majorgauravarya: The hammer drops. Should have done this years ago. Next step...remove security of Mehbooba Mufti &amp; Abdullahs. They wil…\n",
      "@squintneon @INCIndia @RahulGandhi Congress makes false claim of PM Modi shooting for film at Corbett 3 hours after… https://t.co/SYL2HhANWC\n",
      "RT @OpIndia_com: Congress deletes video where Rahul Gandhi was seen dancing shortly after the Pulwama attack\n",
      "\n",
      "https://t.co/nc3dQIFSf2\n",
      "RT @UnSubtleDesi: Lies and more lies. \n",
      "https://t.co/Uqh62ahWaw https://t.co/IqlwOWOtJY\n",
      "RT @Chellaney: The US, with its reliance on Pakistan for cutting a final deal with Afghan Taliban, cannot afford to side with India. Indeed…\n",
      "RT @TheBoy_WhoDared: Liberals wanting peace with Pakistan after Pulwama Terror attack is now having problem with Modi going to South Korea…\n",
      "RT @MumbaiMirror: Almost all claims made by @INCIndia and its president are false.\n",
      "\n",
      "https://t.co/j5GCfn99cU\n",
      "RT @timesfactcheck: FAKE: Congress makes false claim of PM Modi shooting for film at Corbett 3 hours after Pulwama attack https://t.co/7eUa…\n",
      "RT @MumbaiMirror: Almost all claims made by @INCIndia and its president are false.\n",
      "\n",
      "https://t.co/j5GCfn99cU\n",
      "RT @rupagulab: Interesting that Sanghi Rai uses the word apartheid. If we went by the exact example, India should face cricket apartheid fo…\n",
      "RT @pbhushan1: The business of Bollywood Nationalists Kher &amp; Ranaut in Pak: Her blood is boiling these days, after the Pulwama attack. No o…\n",
      "RT @ANI: #WATCH Congress party workers shower currency notes on Congress leader Virendra Rawat (Former Uttarakhand CM Harish Rawat's son),…\n",
      "@KJawadali @News18India @MonaAlamm @AMISHDEVGAN @maulanadehlavi Pakistan'e condolences are with the martyrs familie… https://t.co/xpJQUNJQ1i\n",
      "RT @ashoswai: Modi continues to push Kashmir away from India - Killing Kashmiris might gain him some votes, but India’s loss will be large…\n",
      "RT @nagarjund: Protesters thronged KARACHI bakery in Indiranagar, Bangalore and demanded that Karachi part on sign board must be covered be…\n",
      "RT @MumbaiMirror: Almost all claims made by @INCIndia and its president are false.\n",
      "\n",
      "https://t.co/j5GCfn99cU\n",
      "RT @amitmalviya: Why did Congress delete this tweet showing Rahul Gandhi dancing after the Pulwama attack? https://t.co/H0t6B9wp8q\n",
      "RT @pratheesh_ahp: Thank You Twitter. \n",
      "\n",
      "Somebody reported that in one tweet I 'abused' terrorists behind Pulwama attack taking life of our…\n",
      "RT @ColDiptangshu: How did terrorists acquire RDX Grade 5 &amp; then transported to Pulwama ? Grade 5 used only for mil purpose. How could they…\n",
      "RT @UnSubtleDesi: Lies and more lies. \n",
      "https://t.co/Uqh62ahWaw https://t.co/IqlwOWOtJY\n",
      "RT @timesfactcheck: FAKE: Congress makes false claim of PM Modi shooting for film at Corbett 3 hours after Pulwama attack https://t.co/7eUa…\n",
      "RT @MumbaiMirror: Almost all claims made by @INCIndia and its president are false.\n",
      "\n",
      "https://t.co/j5GCfn99cU\n",
      "RT @squintneon: So @INCIndia has deleted this tweet of @RahulGandhi where he was seen dancing in Gujarat after Pulwama Terror Attack\n",
      "\n",
      "Lets…\n",
      "RT @Purvi_LP: Ms. Nishu Barolia is a travel blogger operating an IG handle “tannedtravelgirl” having a follower base of more than 7,700 use…\n",
      "RT @dna: Rahul's 'Photoshoot Sarkar' jibe backfires, Cong forced to delete video of him dancing on day of Pulwama attack\n",
      "\n",
      "https://t.co/6e8W…\n",
      "RT @NavroopSingh_: I wudnt say next 48 Hours but rather next one week is critical in the crisis between India &amp; Pakistan after Pulwama atta…\n",
      "RT @UnSubtleDesi: Congress deletes video where Rahul Gandhi was seen dancing shortly after the Pulwama attack\n",
      "https://t.co/uJxF2oqESN\n",
      "RT @majorgauravarya: The hammer drops. Should have done this years ago. Next step...remove security of Mehbooba Mufti &amp; Abdullahs. They wil…\n",
      "RT @attomeybharti: .@INCIndia in last 24 hrs\n",
      "\n",
      "-Called Pulwama attacker “so-called terrorist”\n",
      "\n",
      "-Cropped a pic to claim that BJP minister too…\n",
      "RT @asheeshkotwal: Yesterday a Hindu doctor has been suspended from SKIMS for condemning pulwama attack https://t.co/W9z9fN0Jql\n",
      "RT @rohini_sgh: If the PM was indeed not informed on time about the Pulwama attack, heads need to roll for this massive lapse. Also, since…\n",
      "RT @majorgauravarya: The hammer drops. Should have done this years ago. Next step...remove security of Mehbooba Mufti &amp; Abdullahs. They wil…\n",
      "RT @AjayKushwaha_: #WATCH Congress party workers shower currency notes on Congress leader Virendra Rawat ( Harish Rawat son), at tribute ce…\n",
      "RT @KirenRijiju: Such shameful &amp; disgusting! Please fight @narendramodi ji &amp; @BJP4India on development and other issues democratically but…\n",
      "RT @manojpipaliya: Since @INCIndia has deleted this tweet of @RahulGandhi,\n",
      "while India was grieving after the Pulwama Terror Attack , the…\n",
      "RT @IndiaToday: The only assurance I can give to the nation right now is that that under PM Modi's rule, we will not break your trust: @raj…\n",
      "RT @UnSubtleDesi: Lies and more lies. \n",
      "https://t.co/Uqh62ahWaw https://t.co/IqlwOWOtJY\n"
     ]
    },
    {
     "name": "stdout",
     "output_type": "stream",
     "text": [
      "A true depiction.. @LodhiMaleeha @iamhamzaabbasi @SaadiaAfzaal @SuddhanSadaf30 @KoblerinPAK @CynthiaDRitchie… https://t.co/Bv88lHyJWf\n",
      "RT @kavita_krishnan: Criticism of Train Worries Modi More Than Demonisation of a Community: @OmarAbdullah. True. @PMOIndia said those who m…\n",
      "RT @pratheesh_ahp: Thank You Twitter. \n",
      "\n",
      "Somebody reported that in one tweet I 'abused' terrorists behind Pulwama attack taking life of our…\n",
      "RT @MumbaiMirror: Almost all claims made by @INCIndia and its president are false.\n",
      "\n",
      "https://t.co/j5GCfn99cU\n",
      "RT @kavita_krishnan: Some days ago I spoke on @OnReality_Check with @sunetrac &amp; pointed out how attacks on #KashmiriStudents aren't a 'spon…\n",
      "RT @timesfactcheck: FAKE: Congress makes false claim of PM Modi shooting for film at Corbett 3 hours after Pulwama attack https://t.co/7eUa…\n",
      "VERDICT Times Fact Check has found several accusation made by Congress against PM Modi to be false and baseless.… https://t.co/whqivrUi8X\n",
      "RT @BhimAgniveer: Head - SC ST Cell, Agniveer @VaidSatish has filed a formal complaint to National Commission for Scheduled Caste against a…\n",
      "RT @squintneon: So @INCIndia has deleted this tweet of @RahulGandhi where he was seen dancing in Gujarat after Pulwama Terror Attack\n",
      "\n",
      "Lets…\n",
      "RT @khanumarfa: While there are credible reports suggesting that Prime Minister was shooting for a PR film hours after the Pulwama incident…\n",
      "RT @timesfactcheck: FAKE: Congress makes false claim of PM Modi shooting for film at Corbett 3 hours after Pulwama attack https://t.co/7eUa…\n",
      "RT @AadeshRawal: PM Modi left Jim Corbett park after finishing his documentary with Discovery channel at 6:45 pm on 14 February, almost 3:3…\n",
      "@Swamy39 @narendramodi It's genius of @realDonaldTrump reaction on Pulwama attack' that getting nasty information &amp;… https://t.co/g9CD2r9drT\n",
      "RT @BJP4India: Congress has politicized the Pulwama terror attack and targeting a PM who works for 18 hours in a day. \n",
      "\n",
      "Congress should not…\n",
      "The Jaish-e-Mohammad terrorist attack on a convoy of security forces in Pulwama district of Jammu &amp; Kashmir on Thur… https://t.co/S42dfsDeni\n",
      "RT @manakgupta: Like South Africa, Pakistan should face cricket apartheid, says Vinod Rai ⁦@BCCI⁩  https://t.co/cD52FI27fc\n",
      "RT @IPS_Association: \"Our men did not lay down their lives so that their deaths could become the cause of communal hatred.\"~ @crpfindia \n",
      "\n",
      "W…\n",
      "RT @majorgauravarya: The hammer drops. Should have done this years ago. Next step...remove security of Mehbooba Mufti &amp; Abdullahs. They wil…\n",
      "FM Qureshi, UAE counterpart discuss situation arising after Pulwama attack https://t.co/mXW4wGxpQ7\n",
      "RT @rohit87n: @zainabsikander This right here is an image of the aftermath of the Pulwama attack. That is what’s left of an entire human bo…\n",
      "RT @ashoswai: Modi continues to push Kashmir away from India - Killing Kashmiris might gain him some votes, but India’s loss will be large…\n",
      "RT @MumbaiMirror: Almost all claims made by @INCIndia and its president are false.\n",
      "\n",
      "https://t.co/j5GCfn99cU\n",
      "RT @AdityaRajKaul: Shocking. Pakistan Army Spokesperson says, look at the class composition of those jawans killed in the Pulwama Attack in…\n",
      "RT @MumbaiMirror: Almost all claims made by @INCIndia and its president are false.\n",
      "\n",
      "https://t.co/j5GCfn99cU\n",
      "RT @timesfactcheck: FAKE: Congress makes false claim of PM Modi shooting for film at Corbett 3 hours after Pulwama attack https://t.co/7eUa…\n"
     ]
    }
   ],
   "source": [
    "for tweet in tweets:\n",
    "     print(tweet.text)"
   ]
  },
  {
   "cell_type": "code",
   "execution_count": null,
   "metadata": {},
   "outputs": [],
   "source": []
  }
 ],
 "metadata": {
  "kernelspec": {
   "display_name": "Python 3",
   "language": "python",
   "name": "python3"
  },
  "language_info": {
   "codemirror_mode": {
    "name": "ipython",
    "version": 3
   },
   "file_extension": ".py",
   "mimetype": "text/x-python",
   "name": "python",
   "nbconvert_exporter": "python",
   "pygments_lexer": "ipython3",
   "version": "3.6.5"
  }
 },
 "nbformat": 4,
 "nbformat_minor": 2
}
